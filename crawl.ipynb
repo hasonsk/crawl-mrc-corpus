{
 "cells": [
  {
   "cell_type": "code",
   "execution_count": 4,
   "metadata": {},
   "outputs": [],
   "source": [
    "# Thuc hien lay cac url tu cac bai viet tren trang CNN\n",
    "from selenium import webdriver\n",
    "from selenium.webdriver.chrome.service import Service\n",
    "from selenium.webdriver.chrome.options import Options\n",
    "from selenium.webdriver.common.by import By\n",
    "from selenium.webdriver.support.ui import WebDriverWait\n",
    "from selenium.webdriver.support import expected_conditions as EC\n",
    "import os\n",
    "from config import CHROME_DRIVER_PATH\n",
    "\n",
    "FILE_PATH = os.path.join(os.getcwd(), \"cnn_links.txt\")\n",
    "\n",
    "def write_links_to_file(links, file_path):\n",
    "    with open(file_path, 'a+', encoding='utf-8') as file:\n",
    "        for link in links:\n",
    "            if not link.startswith(\"http\"):\n",
    "                file.write(f\"https://edition.cnn.com{link}\\n\")\n",
    "\n",
    "def scrape_cnn_articles():\n",
    "    # Cấu hình ChromeDriver\n",
    "    chrome_options = Options()\n",
    "    chrome_options.add_argument(\"--headless\")  # Chạy Chrome ở chế độ headless\n",
    "    chrome_options.add_argument(\"--disable-gpu\")\n",
    "    chrome_options.add_argument(\"--no-sandbox\")\n",
    "\n",
    "    # Đường dẫn đến ChromeDriver\n",
    "    service = Service(CHROME_DRIVER_PATH)  # Thay thế đường dẫn đến chromedriver của bạn\n",
    "\n",
    "    # Tạo đối tượng trình duyệt\n",
    "    driver = webdriver.Chrome(service=service, options=chrome_options)\n",
    "\n",
    "    categories = [\n",
    "        '', 'health', 'us', 'world', 'politics', 'business', 'opinion', \n",
    "        'entertainment', 'style', 'travel', 'sports', 'climate', 'weather'\n",
    "    ]\n",
    "    links = set()\n",
    "\n",
    "    for category in categories:\n",
    "        driver.get(f\"https://edition.cnn.com/{category}\")\n",
    "        try:\n",
    "            WebDriverWait(driver, 10).until(\n",
    "                EC.presence_of_all_elements_located((By.CSS_SELECTOR, \"div[data-open-link]\"))\n",
    "            )\n",
    "            elements = driver.find_elements(By.CSS_SELECTOR, \"div[data-open-link]\")\n",
    "            for element in elements:\n",
    "                temp = element.get_attribute(\"data-open-link\")\n",
    "                if temp and \"video\" not in temp:\n",
    "                    links.add(temp)\n",
    "        except Exception as e:\n",
    "            print(f\"An error occurred: {e}\")\n",
    "\n",
    "    write_links_to_file(links, FILE_PATH)\n",
    "    driver.quit()\n",
    "\n",
    "if __name__ == \"__main__\":\n",
    "    scrape_cnn_articles()"
   ]
  },
  {
   "cell_type": "code",
   "execution_count": 11,
   "metadata": {},
   "outputs": [
    {
     "name": "stdout",
     "output_type": "stream",
     "text": [
      "Have 36 urls\n",
      "Process interrupted by user.\n",
      "Have new 381 URLs\n",
      "Have 0 invalid URLs\n"
     ]
    }
   ],
   "source": [
    "from selenium import webdriver\n",
    "from selenium.webdriver.common.by import By\n",
    "from selenium.webdriver.chrome.service import Service\n",
    "from selenium.webdriver.chrome.options import Options\n",
    "from config import CHROME_DRIVER_PATH\n",
    "\n",
    "# Cấu hình ChromeDriver\n",
    "chrome_options = Options()\n",
    "chrome_options.add_argument(\"--headless\")  # Chạy Chrome ở chế độ headless\n",
    "chrome_options.add_argument(\"--disable-gpu\")\n",
    "chrome_options.add_argument(\"--no-sandbox\")\n",
    "\n",
    "# Đường dẫn đến ChromeDriver\n",
    "service = Service(CHROME_DRIVER_PATH)  # Thay thế đường dẫn đến chromedriver của bạn\n",
    "\n",
    "# Tạo đối tượng trình duyệt\n",
    "driver = webdriver.Chrome(service=service, options=chrome_options)\n",
    "\n",
    "# Đọc từ file ra danh sách các urls\n",
    "with open('cnn_links.txt', 'r') as f:\n",
    "    urls = [line.strip() for line in f.readlines()]\n",
    "\n",
    "print(f\"Have {len(urls)} urls\")\n",
    "\n",
    "new_urls = urls.copy()\n",
    "invalid_urls = []\n",
    "\n",
    "try:\n",
    "    for url in new_urls:\n",
    "        try:\n",
    "            driver.get(url)\n",
    "            # Tìm tất cả các thẻ a có class phù hợp\n",
    "            elements = driver.find_elements(By.CLASS_NAME, \"card.container__item.container__item--type-media-image.container__item--type-.container_list-headlines-with-read-times__item.container_list-headlines-with-read-times__item--type-\")\n",
    "            # In ra giá trị của thuộc tính href cho mỗi thẻ a tìm được\n",
    "            for element in elements:\n",
    "                href = element.get_attribute('data-open-link')\n",
    "                new_urls.append(href)\n",
    "        except Exception as e:\n",
    "            print(f\"Error accessing {url}\")\n",
    "            invalid_urls.append(url)\n",
    "except KeyboardInterrupt:\n",
    "    print(\"Process interrupted by user.\")\n",
    "finally:\n",
    "    print(f\"Have new {len(new_urls)} URLs\")\n",
    "    with open('new_urls.txt', 'a+') as f:\n",
    "        for url in new_urls:\n",
    "            f.write(url + '\\n')\n",
    "\n",
    "    print(f\"Have {len(invalid_urls)} invalid URLs\")\n",
    "    with open('invalid_urls.txt', 'a+') as f:\n",
    "        for url in invalid_urls:\n",
    "            f.write(url + '\\n')\n",
    "\n",
    "    driver.quit()\n"
   ]
  },
  {
   "cell_type": "code",
   "execution_count": 1,
   "metadata": {},
   "outputs": [
    {
     "name": "stdout",
     "output_type": "stream",
     "text": [
      "Have 2475\n",
      "After, have 2102\n"
     ]
    }
   ],
   "source": [
    "with open('new_urls.txt', 'r') as f:\n",
    "    urls = f.readlines()\n",
    "    print(f\"Have {len(urls)}\")\n",
    "    _urls = set(urls)\n",
    "    fixed_urls = list(_urls)\n",
    "    print(f\"After, have {len(fixed_urls)}\")\n",
    "    with open('new_urls.txt', 'w') as f:\n",
    "        for url in fixed_urls:\n",
    "            f.write(url)"
   ]
  }
 ],
 "metadata": {
  "kernelspec": {
   "display_name": "Python 3",
   "language": "python",
   "name": "python3"
  },
  "language_info": {
   "codemirror_mode": {
    "name": "ipython",
    "version": 3
   },
   "file_extension": ".py",
   "mimetype": "text/x-python",
   "name": "python",
   "nbconvert_exporter": "python",
   "pygments_lexer": "ipython3",
   "version": "3.12.2"
  }
 },
 "nbformat": 4,
 "nbformat_minor": 2
}
